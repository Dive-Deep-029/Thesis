{
 "cells": [
  {
   "cell_type": "code",
   "execution_count": null,
   "metadata": {},
   "outputs": [],
   "source": [
    "\"\"\"\n",
    "Hit-based acquisition.\n",
    "\n",
    "Acoustic Emission measurements are usually hit-based. Only when a defined threshold is crossed,\n",
    "data is acquired. The acquired data is mainly influenced by two parameters:\n",
    "- threshold amplitude\n",
    "- duration discrimination time (DDT); if no threshold crossings are detected for the length of DDT,\n",
    "  the end of the hit is determined"
   ]
  },
  {
   "cell_type": "code",
   "execution_count": null,
   "metadata": {},
   "outputs": [],
   "source": [
    "\"\"\"\"\"\n",
    "Uniaxial tension and compression of porous Mg-Ho alloys were measured using an Instron 5969 Universal Testing Machine. \n",
    "The samples for tension experiments were dog-bone-shaped with a gauge range of 10 mm × 3 mm × 1 mm. \n",
    "The compression samples were cylinders with high H = 15 mm and diameter φ = 6 mm. \n",
    "Tension and compression experiments were performed at room temperature with velocity 10−3 mm/min.\n",
    "\n",
    "A piezoelectric sensor (Vallen-Systeme GmbH) with a frequency band of 200–800 kHz was attached to the sample surface. \n",
    "AE signals were first pre-amplified by 43 dB and then transferred to the AMSY-6 AE-measurement system (Vallen-Systeme GmbH) using a frequency range 95–850 kHz. \n",
    "The amplitude A is recorded in dB which follows the expression dB = [20 Log (|Vsensor|/1 μV)], \n",
    "where Vsensor is the peak voltage output by sensor, and the brackets round the value to its nearest integer in dB.\n",
    "\n",
    "An AE signal is defined as a ‘burst’ in the noise spectrum. \n",
    "The start of a burst is determined by a first threshold crossing, \n",
    "and ended at second threshold crossing or when Duration Discrimination time (DDT, defines a time period in which no threshold crossing must occur in order that an end of hit is determined) expired without any threshold crossing. \n",
    "A threshold of 21.1 dB was determined by prior rubber experiments to evaluate the internal noise of the experimental arrangement. \n",
    "We changed the DDT from 50 μs to 1000 μs, and found that DDT ~ 300 μs fits the porous collapse well, while DDT ~ 50 μs fits the dislocation movements well. \n",
    "In order to capture both porous collapse and dislocation movements, the value of DDT = 100 μs was chosen. \n",
    "The AE energy is the integral of the square of the output voltage over the burst interval. \n",
    "The energy is then electronically calibrated into atto Joules, aJ.\n",
    "\n",
    "In order to ensure that all the AE signals collected during the tension/compression experiment stem from the sample, \n",
    "we performed noise separation measurement. We first investigated the noise of the full experiment using a dummy rubber sample with the same detector configuration as in the alloy experiment (see Supplementary Fig. S2).\n",
    "We also measured the noise of the instrument by attaching the detector to the sample grips. \n",
    "The distribution of background noise follows approximately a log normal distribution (see Supplementary Fig. S3) while the maximum noise energy is less than 0.2 aJ."
   ]
  },
  {
   "cell_type": "code",
   "execution_count": null,
   "metadata": {},
   "outputs": [],
   "source": [
    "\"\"\"\n",
    "Additionally, status data can be acquired in defined intervals.\n",
    "\n",
    "The following example shows a simple setup to acquire hits and status data with a linWave\n",
    "device. Hit data (AERecord) and transient data (TRRecord) are returned from different functions but\n",
    "can be merged by matching the transient recorder index (trai) field in both records.\n",
    "\"\"\""
   ]
  },
  {
   "cell_type": "code",
   "execution_count": null,
   "metadata": {},
   "outputs": [],
   "source": [
    "import argparse  # argparse is the “recommended command-line parsing module in the Python standard library.” \n",
    "#It’s what you use to get command line arguments into your program.\n",
    "\n",
    "import asyncio\n",
    "import logging\n",
    "from dataclasses import asdict, dataclass\n",
    "from typing import Dict\n",
    "\n",
    "import numpy as np\n",
    "\n",
    "from waveline import LinWave, AERecord, TRRecord"
   ]
  },
  {
   "cell_type": "code",
   "execution_count": null,
   "metadata": {},
   "outputs": [],
   "source": [
    "logging.basicConfig(level=logging.INFO)\n",
    "# https://docs.python.org/3/howto/logging.html#logging-basic-tutorial"
   ]
  },
  {
   "cell_type": "code",
   "execution_count": null,
   "metadata": {},
   "outputs": [],
   "source": [
    "@dataclass\n",
    "class HitRecord(AERecord):\n",
    "    \"\"\"All fields from AERecord + fields for transient data.\"\"\"\n",
    "\n",
    "    samples: int\n",
    "    data: np.ndarray"
   ]
  },
  {
   "cell_type": "code",
   "execution_count": null,
   "metadata": {},
   "outputs": [],
   "source": [
    "async def merge_ae_tr_records(async_generator):\n",
    "    \"\"\"Helper function to merge matching AERecords and TRRecords (same trai).\"\"\"\n",
    "    dict_ae: Dict[int, AERecord] = {}\n",
    "    dict_tr: Dict[int, TRRecord] = {}\n",
    "\n",
    "    async for record in async_generator:\n",
    "        if isinstance(record, AERecord):\n",
    "            if record.trai == 0:  # status data or hit without transient data -> return directly\n",
    "                yield record\n",
    "            else:\n",
    "                dict_ae[record.trai] = record  # store in buffer to merge later\n",
    "        if isinstance(record, TRRecord):\n",
    "            dict_tr[record.trai] = record  # store in buffer to merge later\n",
    "\n",
    "        # try to match and return merged HitRecords\n",
    "        trais_ae = set(dict_ae.keys())\n",
    "        trais_tr = set(dict_tr.keys())\n",
    "        trais_match = trais_ae.intersection(trais_tr)\n",
    "        for trai in trais_match:\n",
    "            ae_record = dict_ae.pop(trai)\n",
    "            tr_record = dict_tr.pop(trai)\n",
    "            yield HitRecord(\n",
    "                **asdict(ae_record),\n",
    "                samples=tr_record.samples,\n",
    "                data=tr_record.data,\n",
    "            )"
   ]
  },
  {
   "cell_type": "code",
   "execution_count": null,
   "metadata": {},
   "outputs": [],
   "source": [
    "async def main(ip: str):\n",
    "    async with LinWave(ip) as lw:\n",
    "        print(await lw.get_info())\n",
    "\n",
    "        await lw.set_channel(channel=0, enabled=True)  # enabled all channels\n",
    "        await lw.set_range(channel=0, range_volts=0.05)  # set input range to 50 mV\n",
    "        await lw.set_filter(channel=0, highpass=100e3, lowpass=450e3)  # 100-450 kHz bandpass\n",
    "        await lw.set_continuous_mode(channel=0, enabled=False)  # -> hit-based\n",
    "        await lw.set_ddt(channel=0, microseconds=400)  # set duration discrimination time to 400 µs\n",
    "        await lw.set_status_interval(channel=0, seconds=2)  # generate status data every 2 seconds\n",
    "        await lw.set_threshold(channel=0, microvolts=1_000)  # 1000 µV = 60 dB(AE)\n",
    "        await lw.set_tr_enabled(channel=0, enabled=True)  # enable transient data recording\n",
    "        await lw.set_tr_decimation(channel=0, factor=5)  # set decimation factor for transient data, 10 MHz / 10 = 1 MHz\n",
    "        await lw.set_tr_pretrigger(channel=0, samples=200)  # 200 pre-trigger samples\n",
    "        await lw.set_tr_postduration(channel=0, samples=200)  # 0 post-duration samples\n",
    "\n",
    "        print(await lw.get_setup(channel=1))\n",
    "        print(await lw.get_setup(channel=2))\n",
    "\n",
    "        async for record in merge_ae_tr_records(lw.acquire()):\n",
    "            print(record)"
   ]
  },
  {
   "cell_type": "code",
   "execution_count": null,
   "metadata": {},
   "outputs": [],
   "source": [
    "if __name__ == \"__main__\":\n",
    "    parser = argparse.ArgumentParser(description=\"linwave_ae\")\n",
    "    parser.add_argument(\"ip\", help=\"IP address of linWave device\")\n",
    "    args = parser.parse_args()\n",
    "\n",
    "    try:\n",
    "        asyncio.run(main(args.ip))\n",
    "    except KeyboardInterrupt:\n",
    "        ..."
   ]
  },
  {
   "cell_type": "code",
   "execution_count": null,
   "metadata": {},
   "outputs": [],
   "source": [
    "\"\"\"   Example \n",
    "import argparse\n",
    "parser = argparse.ArgumentParser(description='Videos to images')\n",
    "parser.add_argument('indir', type=str, help='Input dir for videos')\n",
    "parser.add_argument('outdir', type=str, help='Output dir for image')\n",
    "args = parser.parse_args()\n",
    "print(args.indir)"
   ]
  }
 ],
 "metadata": {
  "kernelspec": {
   "display_name": "Python 3 (ipykernel)",
   "language": "python",
   "name": "python3"
  },
  "language_info": {
   "codemirror_mode": {
    "name": "ipython",
    "version": 3
   },
   "file_extension": ".py",
   "mimetype": "text/x-python",
   "name": "python",
   "nbconvert_exporter": "python",
   "pygments_lexer": "ipython3",
   "version": "3.10.6"
  }
 },
 "nbformat": 4,
 "nbformat_minor": 4
}
