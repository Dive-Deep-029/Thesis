{
 "cells": [
  {
   "cell_type": "code",
   "execution_count": null,
   "id": "8a1af5ae",
   "metadata": {},
   "outputs": [],
   "source": [
    "import os\n",
    "\n",
    "import matplotlib.pyplot as plt\n",
    "\n",
    "import vallenae as vae\n",
    "from scipy.fftpack import fft, ifft, fftfreq\n",
    "\n",
    "import numpy as np"
   ]
  },
  {
   "cell_type": "code",
   "execution_count": null,
   "id": "9d46b73f",
   "metadata": {},
   "outputs": [],
   "source": [
    "HERE = os.path.dirname(__file__) if \"__file__\" in locals() else os.getcwd()\n",
    "# HERE = \"D:\\Thesis\\Python\\sample_data\"\n",
    "TRADB = os.path.join(HERE, \"sample.tradb\")  # uncompressed\n",
    "TRAI = 1  # just an example, no magic here"
   ]
  },
  {
   "cell_type": "code",
   "execution_count": null,
   "id": "624c05e9",
   "metadata": {},
   "outputs": [],
   "source": [
    "def main():\n",
    "    # Read waveform from tradb\n",
    "    ''''with statement in Python is used in exception handling to make the code cleaner and much more readable. \n",
    "    It simplifies the management of common resources like file streams\n",
    "    with open('file_path', 'w') as file:\n",
    "        file.write('hello world !')\n",
    "'''\n",
    "    with vae.io.TraDatabase(TRADB) as tradb:\n",
    "        \n",
    "        y, t = tradb.read_wave(TRAI)"
   ]
  },
  {
   "cell_type": "code",
   "execution_count": null,
   "id": "a8540941",
   "metadata": {},
   "outputs": [],
   "source": [
    "    rmss = vae.features.rms(y)\n",
    "    print(\"rms\", rmss)\n",
    "\n",
    "    y1 = y*1e3  # in mV\n",
    "    t1 = t*1e6  # for µs\n",
    "   \n",
    "#https://www.youtube.com/watch?v=Ee9btm3tros&list=PLn0OLiymPak2jxGCbWrcgmXUtt9Lbjj_A&index=11   -  refer this to make fft output coifficents to orginal units (eg:mV)\n",
    "    X = fft(y1)\n",
    "    N = len(X)  # No. of samples\n",
    "    delta_t = t[2]-t[1]\n",
    "    #print(\"N, delta_t\", N, delta_t)\n",
    "    freq = fftfreq(N, delta_t)\n",
    "\n",
    "    rms = []\n",
    "    for i in range(N):\n",
    "        rms.append(abs(X[i]*0.707))\n",
    "    #print(\"rms\", rms)\n",
    "    "
   ]
  },
  {
   "cell_type": "code",
   "execution_count": null,
   "id": "c04bfb05",
   "metadata": {},
   "outputs": [],
   "source": [
    "    plt.plot(t, rms, marker='o')\n",
    "    ''''plot(x, y, color='green', marker='o', linestyle='dashed',\n",
    "        linewidth=2, markersize=12)\n",
    "     plot(x, y, 'bo')  # plot x and y using blue circle markers'''\n",
    "\n",
    "    plt.xlim(0, 0.001)\n",
    "''''Get or set the x limits of the current axes.\n",
    "    left, right = xlim()  # return the current xlim\n",
    "    xlim((left, right))   # set the xlim to left, right\n",
    "    xlim(left, right)     # set the xlim to left, right'''\n",
    "    \n",
    "    plt.show()\n",
    "    ''''Display all open figures.\n",
    "    If you want an image file as well as a user interface window, use pyplot.savefig before pyplot.show'''\n",
    "  \n",
    "    plt.figure(figsize=(12, 6))\n",
    "        \n",
    "    plt.subplot(121)\n",
    "    ''''#the figure has 1 row, 2 columns, and this plot is the first plot.\n",
    "    \n",
    "    Three integers (nrows, ncols, index). \n",
    "    The subplot will take the index position on a grid with nrows rows and ncols columns. \n",
    "    index starts at 1 in the upper left corner and increases to the right. \n",
    "    index can also be a two-tuple specifying the (first, last) indices (1-based, and including last) of the subplot, \n",
    "    e.g., fig.add_subplot(3, 1, (1, 2)) makes a subplot that spans the upper 2/3 of the figure. '''\n",
    "\n",
    "    #x[start:end:step] default values  x[0:len(x):1] ---   [:N//2]     # 17 // 3  # floor division discards the fractional part\n",
    "    \n",
    "    plt.stem(freq[:N//2], np.abs(X[:N//2]), 'b', \\\n",
    "            markerfmt=\" \", basefmt=\"-b\")\n",
    "    ''''\n",
    "    matplotlib.pyplot.stem() creates stem plots. \n",
    "    A Stem plot plots vertical lines at each x position covered under the graph from the baseline to y, \n",
    "    and places a marker there.\n",
    "    Syntax: stem([x, ] y, linefmt=None, markerfmt=None, basefmt=None)\n",
    "    https://www.geeksforgeeks.org/matplotlib-pyplot-stem-in-python/'''\n",
    "        \n",
    "    plt.plot(freq,abs(X))\n",
    "    plt.xlabel('Freq (Hz)')\n",
    "    plt.ylabel('FFT Amplitude |X(freq)|')\n",
    "    plt.xlim(0, 250000)\n",
    "\n",
    "    plt.subplot(122)  #the figure has 1 row, 2 columns, and this plot is the second plot.\n",
    "    plt.plot(t, ifft(X), 'r')\n",
    "    plt.xlabel('Time (s)')\n",
    "    plt.ylabel('Amplitude')\n",
    "    plt.tight_layout()\n",
    "    #The tight_layout() function in pyplot module of matplotlib library is used to automatically adjust subplot parameters to give specified padding.\n",
    "   \n",
    "    plt.show()\n",
    "\n",
    "if __name__ == \"__main__\":\n",
    "    main()\n",
    "#https://www.youtube.com/watch?v=sugvnHA7ElY\n",
    "# when file eg:test1.py runs, the python interpretor will set variable __name__ = __main__,, only in current running python file only it will initialize this variable as __main__\n",
    "    "
   ]
  }
 ],
 "metadata": {
  "kernelspec": {
   "display_name": "Python 3 (ipykernel)",
   "language": "python",
   "name": "python3"
  },
  "language_info": {
   "codemirror_mode": {
    "name": "ipython",
    "version": 3
   },
   "file_extension": ".py",
   "mimetype": "text/x-python",
   "name": "python",
   "nbconvert_exporter": "python",
   "pygments_lexer": "ipython3",
   "version": "3.10.6"
  }
 },
 "nbformat": 4,
 "nbformat_minor": 5
}
